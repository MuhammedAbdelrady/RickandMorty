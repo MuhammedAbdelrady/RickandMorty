{
 "cells": [
  {
   "cell_type": "markdown",
   "metadata": {},
   "source": [
    "Rick and Morty data scraping from imdb "
   ]
  },
  {
   "cell_type": "markdown",
   "metadata": {},
   "source": [
    "Import Libraries "
   ]
  },
  {
   "cell_type": "code",
   "execution_count": 1,
   "metadata": {},
   "outputs": [],
   "source": [
    "from bs4 import BeautifulSoup\n",
    "import requests\n",
    "import pandas as pd"
   ]
  },
  {
   "cell_type": "markdown",
   "metadata": {},
   "source": [
    "lists initialization"
   ]
  },
  {
   "cell_type": "code",
   "execution_count": 34,
   "metadata": {},
   "outputs": [],
   "source": [
    "season_n_df = []\n",
    "ep_name = []\n",
    "ep_rate = []\n",
    "ep_raters = []\n",
    "ep_date = []\n",
    "ep_plot = []\n",
    "ep_number = []"
   ]
  },
  {
   "cell_type": "markdown",
   "metadata": {},
   "source": [
    "Get web page and its data"
   ]
  },
  {
   "cell_type": "code",
   "execution_count": 51,
   "metadata": {},
   "outputs": [],
   "source": [
    "for season in range(5):\n",
    "\n",
    "    season_no = season+1\n",
    "    url=f'https://www.imdb.com/title/tt2861424/episodes?season={season_no}'\n",
    "    page=requests.get(url)\n",
    "    season_page = BeautifulSoup(page.content)\n",
    "    content_page=season_page.find_all('div',{'class':'info'})\n",
    "\n",
    "\n",
    "    for ep_num , ep in enumerate(content_page):\n",
    "        name=ep.find('a',{'itemprop':'name'}).text\n",
    "        date=ep.find('div',{'class':'airdate'}).text.strip().replace(\".\",\"\")\n",
    "        rate=ep.find('div',{'class':'ipl-rating-widget'}).find('div',{'class':'ipl-rating-star small'}).find('span',{'class':'ipl-rating-star__rating'}).text\n",
    "        raters=ep.find('span',{'class':'ipl-rating-star__total-votes'}).text.strip()\n",
    "        plot=ep.find('div',{'class':'item_description'}).text.strip()\n",
    "\n",
    "\n",
    "        season_n_df.append(season_no)\n",
    "        ep_number.append(ep_num+1)\n",
    "        ep_name.append(name)\n",
    "        ep_rate.append(rate)\n",
    "        ep_raters.append(raters)\n",
    "        ep_date.append(date)\n",
    "        ep_plot.append(plot)"
   ]
  },
  {
   "cell_type": "markdown",
   "metadata": {},
   "source": [
    "Make dataframe to store this data"
   ]
  },
  {
   "cell_type": "code",
   "execution_count": 55,
   "metadata": {},
   "outputs": [],
   "source": [
    "df=pd.DataFrame({\n",
    "    'season Number':season_n_df,\n",
    "    'Episode':ep_number,\n",
    "    'Name': ep_name,\n",
    "    'Date': ep_date,\n",
    "    'Rate': ep_rate,\n",
    "    'Voters': ep_raters,\n",
    "    'plot': ep_plot\n",
    "}).reset_index(drop=True)\n",
    "df.to_csv(r\"D:\\ricknmorty.csv\",index=False)"
   ]
  }
 ],
 "metadata": {
  "kernelspec": {
   "display_name": "Python 3.10.4 ('env')",
   "language": "python",
   "name": "python3"
  },
  "language_info": {
   "codemirror_mode": {
    "name": "ipython",
    "version": 3
   },
   "file_extension": ".py",
   "mimetype": "text/x-python",
   "name": "python",
   "nbconvert_exporter": "python",
   "pygments_lexer": "ipython3",
   "version": "3.10.4"
  },
  "orig_nbformat": 4,
  "vscode": {
   "interpreter": {
    "hash": "4fb6786fbc0b102954d4e77f7753c6cb865e983e4dceb4591823aa9a8a0b8003"
   }
  }
 },
 "nbformat": 4,
 "nbformat_minor": 2
}
